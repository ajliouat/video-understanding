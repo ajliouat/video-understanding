{
 "cells": [
  {
   "cell_type": "code",
   "execution_count": null,
   "metadata": {},
   "outputs": [],
   "source": [
    "# Object Tracking Demo\n",
    "from src.models.tracking import ObjectTracker\n",
    "\n",
    "# Initialize the object tracker\n",
    "tracker = ObjectTracker()\n",
    "\n",
    "# Example detections\n",
    "detections = [\n",
    "    {\"bbox\": [100, 150, 200, 300], \"score\": 0.9},\n",
    "    {\"bbox\": [110, 160, 210, 310], \"score\": 0.8}\n",
    "]\n",
    "\n",
    "# Track objects\n",
    "tracks = tracker.track(detections)\n",
    "print(tracks)"
   ]
  }
 ],
 "metadata": {
  "language_info": {
   "name": "python"
  }
 },
 "nbformat": 4,
 "nbformat_minor": 2
}
