{
 "cells": [
  {
   "cell_type": "code",
   "execution_count": null,
   "metadata": {},
   "outputs": [],
   "source": [
    "# Action Recognition Demo\n",
    "import torch\n",
    "from src.models.action_recognition import ActionRecognizer\n",
    "\n",
    "# Load a sample video clip\n",
    "video_clip = torch.randn(1, 3, 16, 112, 112)  # Example input\n",
    "\n",
    "# Initialize the action recognizer\n",
    "recognizer = ActionRecognizer()\n",
    "\n",
    "# Recognize actions\n",
    "predictions = recognizer.recognize(video_clip)\n",
    "print(predictions)"
   ]
  }
 ],
 "metadata": {
  "language_info": {
   "name": "python"
  }
 },
 "nbformat": 4,
 "nbformat_minor": 2
}
