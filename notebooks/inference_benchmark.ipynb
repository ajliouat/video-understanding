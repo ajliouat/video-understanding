{
 "cells": [
  {
   "cell_type": "code",
   "execution_count": null,
   "metadata": {},
   "outputs": [],
   "source": [
    "# Inference Benchmark\n",
    "import time\n",
    "from src.models.detection import ObjectDetector\n",
    "\n",
    "# Initialize the object detector\n",
    "detector = ObjectDetector()\n",
    "\n",
    "# Load a sample image\n",
    "image = torch.randn(3, 224, 224)  # Example input\n",
    "\n",
    "# Benchmark inference time\n",
    "start = time.time()\n",
    "detections = detector.detect(image)\n",
    "end = time.time()\n",
    "print(f\"Inference Time: {end - start:.4f}s\")"
   ]
  }
 ],
 "metadata": {
  "language_info": {
   "name": "python"
  }
 },
 "nbformat": 4,
 "nbformat_minor": 2
}
